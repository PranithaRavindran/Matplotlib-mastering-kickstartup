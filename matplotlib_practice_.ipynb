{
  "nbformat": 4,
  "nbformat_minor": 0,
  "metadata": {
    "colab": {
      "private_outputs": true,
      "provenance": []
    },
    "kernelspec": {
      "name": "python3",
      "display_name": "Python 3"
    },
    "language_info": {
      "name": "python"
    }
  },
  "cells": [
    {
      "cell_type": "code",
      "source": [
        "#matplot library kickstart\n",
        "from matplotlib import pylab\n",
        "print(pylab.__version__)"
      ],
      "metadata": {
        "id": "sh-kVpiaXXQM"
      },
      "execution_count": null,
      "outputs": []
    },
    {
      "cell_type": "code",
      "source": [
        "#using numpy for generate random data\n",
        "import numpy as np\n",
        "x=np.linspace(0,10,25)\n",
        "y=x+x*2\n",
        "print(x)\n",
        "print(y)\n",
        "print(np.array([x,y]).reshape(25,2).reshape(2,25))"
      ],
      "metadata": {
        "id": "jUBXOEWTY1AI"
      },
      "execution_count": null,
      "outputs": []
    },
    {
      "cell_type": "code",
      "source": [
        "pylab.plot(x,y,'r--')\n",
        "pylab.show()"
      ],
      "metadata": {
        "id": "siGagaU8ZvD8"
      },
      "execution_count": null,
      "outputs": []
    },
    {
      "cell_type": "code",
      "source": [
        "#drawing a subgraph\n",
        "pylab.subplot(1,2,1) #(rows,columns,indexes)\n",
        "pylab.plot(x,y,'r--') #red in color\n",
        "pylab.subplot(2,2,2)\n",
        "pylab.plot(y,x,'g*-')\n",
        "pylab.show()"
      ],
      "metadata": {
        "id": "6aOd6QkSavrw"
      },
      "execution_count": null,
      "outputs": []
    },
    {
      "cell_type": "code",
      "source": [
        "#(1,2,1) (2,2,2)\n",
        "pylab.subplot(1,2,1)\n",
        "pylab.plot(x,y,'r--')\n",
        "pylab.subplot(2,2,2)\n",
        "pylab.plot(y,x,'g*-')\n",
        "pylab.show()"
      ],
      "metadata": {
        "id": "ldRFpSq_bTvy"
      },
      "execution_count": null,
      "outputs": []
    },
    {
      "cell_type": "code",
      "source": [
        "from matplotlib import pyplot as plt"
      ],
      "metadata": {
        "id": "dB0XhmRYezl_"
      },
      "execution_count": null,
      "outputs": []
    },
    {
      "cell_type": "code",
      "source": [
        "fig=plt.figure()\n",
        "axix=fig.add_axes([0.5,0.1,0.8,0.8]) #canvas(left,right,width,height) from(0to1)\n",
        "axix.plot(x,y,'r--')"
      ],
      "metadata": {
        "id": "1js3GwvYe4qb"
      },
      "execution_count": null,
      "outputs": []
    },
    {
      "cell_type": "code",
      "source": [
        "#again a subgraph\n",
        "fig,axes =plt.subplots(1,2)\n",
        "axes[0].plot(x,y,'r--')\n",
        "axes[1].plot(y,x,'g*-')"
      ],
      "metadata": {
        "id": "QXK4OiTvfhYA"
      },
      "execution_count": null,
      "outputs": []
    },
    {
      "cell_type": "code",
      "source": [
        "#again a subgraph\n",
        "fig,axes =plt.subplots(2,3)\n",
        "axes[0][0].plot(x,y,'r--')\n",
        "axes[0][1].plot(y,x,'g*-')"
      ],
      "metadata": {
        "id": "69A_28gyg6B4"
      },
      "execution_count": null,
      "outputs": []
    },
    {
      "cell_type": "code",
      "source": [
        "#again a subgraph\n",
        "fig,axes =plt.subplots(3,2)\n",
        "axes[0][0].plot(x,y,'r--')\n",
        "axes[0][1].plot(y,x,'g*-')\n",
        "plt.tight_layout()"
      ],
      "metadata": {
        "id": "1akP1wmfhEa-"
      },
      "execution_count": null,
      "outputs": []
    },
    {
      "cell_type": "code",
      "source": [
        "#picture or a graph inside an another graph\n",
        "fig = plt.figure()\n",
        "ax1 = fig.add_axes([0.1,0.1,0.8,0.8])\n",
        "ax2 = fig.add_axes([0.1,0.5,0.4,0.2])\n",
        "ax1.plot(x,y,'r--')\n",
        "ax2.plot(y,x,'g*-')"
      ],
      "metadata": {
        "id": "1t0_-7oChN9r"
      },
      "execution_count": null,
      "outputs": []
    },
    {
      "cell_type": "code",
      "source": [
        "fig,axes=plt.subplots(figsize=(16,9),dpi=50)\n",
        "axes.plot(x,y,'r--')"
      ],
      "metadata": {
        "id": "PLElbDESh4At"
      },
      "execution_count": null,
      "outputs": []
    },
    {
      "cell_type": "code",
      "source": [
        "fig,axes=plt.subplots()\n",
        "axes.set_title(\"title\")\n",
        "axes.set_xlabel(\"x\")\n",
        "axes.set_ylabel(\"y\")\n",
        "axes.plot(x,y,'r--')"
      ],
      "metadata": {
        "id": "ci7kCm58iUmS"
      },
      "execution_count": null,
      "outputs": []
    },
    {
      "cell_type": "code",
      "source": [
        "# want to named x lable and y lable as x-axis and y axis\n",
        "fig,axes=plt.subplots()\n",
        "axes.set_title(\"title of the graph\")\n",
        "axes.set_xlabel(\"x-axis\")\n",
        "axes.set_ylabel(\"y-axis\")\n",
        "axes.plot(x,y,'r--')\n"
      ],
      "metadata": {
        "id": "pSTZvM4oist0"
      },
      "execution_count": null,
      "outputs": []
    },
    {
      "cell_type": "code",
      "source": [
        "fig,axes=plt.subplots()\n",
        "axes.set_xlabel(\"x-lable\")\n",
        "axes.set_ylabel(\"y-lable\")\n",
        "axes.set_title(\"title of the graph\")\n",
        "axes.plot(x,x**2,label=\"x**2\")\n",
        "axes.plot(x,x**3,label=\"x**3\")\n",
        "axes.legend([\"y=x**2\",\"y=x**3\"],loc=2)"
      ],
      "metadata": {
        "id": "3IbrS2Qai7Wa"
      },
      "execution_count": null,
      "outputs": []
    },
    {
      "cell_type": "code",
      "source": [
        "#line color , transperancy and few more things\n",
        "fig,axes=plt.subplots(dpi=150)\n",
        "axes.set_xlabel(\"x-lable\")\n",
        "axes.set_ylabel(\"y-lable\")\n",
        "axes.set_title(\"title of the graph\")\n",
        "axes.plot(x,x+1,color=\"red\",alpha=0.5)\n",
        "axes.plot(x,x+2,color=\"green\",alpha=0.5)\n",
        "axes.plot(x,x+3,color=\"blue\",alpha=0.5)\n"
      ],
      "metadata": {
        "id": "Xngbf41plurq"
      },
      "execution_count": null,
      "outputs": []
    },
    {
      "cell_type": "code",
      "source": [
        "#line width and the line style\n",
        "fig,ax=plt.subplots(dpi=150)\n",
        "ax.plot(x,x+1,color=\"red\",alpha=0.5,linewidth=3,linestyle=\"--\")\n",
        "ax.plot(x,x+2,color=\"green\",alpha=0.5,linewidth=3,linestyle=\"-.\")\n",
        "ax.plot(x,x+3,color=\"blue\",alpha=0.5,linewidth=3,linestyle=\":\")"
      ],
      "metadata": {
        "id": "Ff97eX9vl5SS"
      },
      "execution_count": null,
      "outputs": []
    },
    {
      "cell_type": "code",
      "source": [
        "#demonstarting markers\n",
        "fig,ax=plt.subplots(dpi=150)\n",
        "ax.plot(x,x+1,color=\"red\",alpha=0.5,linewidth=3,linestyle=\"--\",marker=\"o\")\n",
        "ax.plot(x,x+2,color=\"green\",alpha=0.5,linewidth=3,linestyle=\"-.\")\n",
        "ax.plot(x,x+3,color=\"blue\",alpha=0.5,linewidth=3,linestyle=\":\")\n",
        "#marker size\n",
        "fig,ax=plt.subplots(dpi=150)\n",
        "ax.plot(x,x+1,color=\"red\",alpha=0.5,linewidth=3,linestyle=\"--\",marker=\"o\",markersize=10)"
      ],
      "metadata": {
        "id": "cKLKYTghm6ZP"
      },
      "execution_count": null,
      "outputs": []
    },
    {
      "cell_type": "code",
      "source": [
        "#canvas grid and axix shape\n",
        "fig,axes=plt.subplots(1,2,figsize=(10,5))\n",
        "axes[0].plot(x,x**2,x**3,lw=2)\n",
        "axes[0].grid(True)\n",
        "axes[1].plot(x,x**2,x**3,lw=2)\n",
        "axes[1].grid(color=\"green\",alpha=0.5,linestyle=\"--\")"
      ],
      "metadata": {
        "id": "bIMgT1d-nPhC"
      },
      "execution_count": null,
      "outputs": []
    },
    {
      "cell_type": "markdown",
      "source": [
        "***2D GRAPHICS***"
      ],
      "metadata": {
        "id": "1pr_BVU8oj9X"
      }
    },
    {
      "cell_type": "code",
      "source": [
        "n=np.array([0,1,2,3,4,5])\n",
        "fig,axex=plt.subplots(1,4,figsize=(16,5))\n",
        "axex[0].set_title(\"Scatter\")\n",
        "axex[0].scatter(x,y)\n",
        "axex[1].set_title(\"step\")\n",
        "axex[1].step(n,n**2,n,n**3)\n",
        "axex[2].set_title(\"bar\")\n",
        "axex[2].bar(n,n**2,width=0.5,alpha=0.5)\n",
        "axex[3].set_title(\"fill_between\")\n",
        "axex[3].fill_between(n,n**2,n**3,color=\"green\",alpha=0.5)\n"
      ],
      "metadata": {
        "id": "kpxkEvHdopBK"
      },
      "execution_count": null,
      "outputs": []
    },
    {
      "cell_type": "code",
      "source": [
        "#drawing a radar chart\n",
        "fig=plt.figure(figsize=(10,5))\n",
        "ax=fig.add_axes([0.0,0.0,1,1],polar=True)\n",
        "# i want a spiral in that\n",
        "ax.plot(n,n**2,lw=3)"
      ],
      "metadata": {
        "id": "DHiwpPn5pZh0"
      },
      "execution_count": null,
      "outputs": []
    },
    {
      "cell_type": "code",
      "source": [
        "#draw a histogram\n",
        "fig,ax=plt.subplots()\n",
        "ax.hist(np.random.randn(1000))\n"
      ],
      "metadata": {
        "id": "GYcM1bsaphh8"
      },
      "execution_count": null,
      "outputs": []
    },
    {
      "cell_type": "code",
      "source": [
        "#can make a cummulative histogram\n",
        "fig,ax=plt.subplots()\n",
        "ax.hist(np.random.randn(1000),cumulative=True,bins=50,color=\"g\",alpha=0.5)"
      ],
      "metadata": {
        "id": "aEC-n9ICqYvJ"
      },
      "execution_count": null,
      "outputs": []
    },
    {
      "cell_type": "code",
      "source": [
        "# draw a contour image\n",
        "import matplotlib\n",
        "import numpy as np\n",
        "import matplotlib.cm as cm\n",
        "import matplotlib.mlab as mlab\n",
        "import matplotlib.pyplot as plt\n",
        "\n",
        "delta=0.025\n",
        "x=np.arange(-3.0,3.0,delta)\n",
        "y=np.arange(-2.0,2.0,delta)\n",
        "x,y=np.meshgrid(x,y)\n",
        "z1=np.exp(-x**2-y**2)\n",
        "z2=np.exp(-(x+1)**2-(y-1)**2)\n",
        "z=z1-z2\n",
        "fig,ax=plt.subplots()\n",
        "CS=ax.contour(x,y,z)\n",
        "ax.clabel(CS,inline=1,fontsize=10)\n",
        "ax.set_title(\"Contour Plot\")\n"
      ],
      "metadata": {
        "id": "2poKAalIqv3I"
      },
      "execution_count": null,
      "outputs": []
    },
    {
      "cell_type": "markdown",
      "source": [
        "3D GRAPHICS"
      ],
      "metadata": {
        "id": "-b2jyUhpsEQ0"
      }
    },
    {
      "cell_type": "code",
      "source": [
        "# draw 3D surface image\n",
        "from mpl_toolkits.mplot3d import Axes3D\n",
        "fig=plt.figure()\n",
        "ax=fig.add_subplot(111,projection=\"3d\")\n",
        "ax.plot_surface(x,y,z,rstride=1,cstride=1,cmap=cm.coolwarm)\n",
        "# create like a perfect veiw for analyse\n",
        "ax.view_init(30,30)\n",
        "# stride\n",
        "ax.set_xlabel(\"x\")\n",
        "ax.set_ylabel(\"y\")\n",
        "ax.set_zlabel(\"z\")\n",
        "# can change a projection of the animation\n",
        "ax.set_zlim(-1.01,1.01)\n",
        "ax.set_zlim(-1.01,1.01)\n"
      ],
      "metadata": {
        "id": "TSejcppWsIcC"
      },
      "execution_count": null,
      "outputs": []
    },
    {
      "cell_type": "code",
      "source": [
        "# heatmap >>>> colormap\n",
        "#practice  a example on this , which language is more popular\n",
        "import matplotlib.pyplot as plt\n",
        "#data to plot\n",
        "languages =\"python\" ,\"java\" , \"javaScript\" ,\"Php\" ,\"C\" ,\"c++\"\n",
        "popularity = [22.2,17.6,8.8,8,7.7,6.7]\n",
        "colors=[\"#1f77b4\",\"#ff7f0e\",\"#2ca02c\",\"#d62728\",\"#9467bd\",\"#8c564b\"]\n",
        "#plot\n",
        "plt.bar(languages,popularity,color=colors)\n"
      ],
      "metadata": {
        "id": "HR_UyMxXtDwV"
      },
      "execution_count": null,
      "outputs": []
    },
    {
      "cell_type": "code",
      "source": [
        "#explode 1st slice\n",
        "explode=(0.1,0,0,0,0,0)\n",
        "#plot\n",
        "plt.pie(popularity,explode=explode,labels=languages,colors=colors,autopct=\"%1.1f%%\",shadow=True,startangle=90)\n",
        "plt.show()"
      ],
      "metadata": {
        "id": "DSPq92SsuRJa"
      },
      "execution_count": null,
      "outputs": []
    }
  ]
}